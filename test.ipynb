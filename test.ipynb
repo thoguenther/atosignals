{
 "cells": [
  {
   "cell_type": "code",
   "execution_count": 10,
   "metadata": {},
   "outputs": [],
   "source": [
    "from pdfminer.high_level import extract_text\n",
    "\n",
    "path = \"source/Ril-301-INB-2026-data.pdf\"\n",
    "\n",
    "def extract_text_from_pdf(pdf_path):\n",
    "    return extract_text(pdf_path)\n",
    "\n",
    "pdf_text = extract_text_from_pdf(path)"
   ]
  },
  {
   "cell_type": "code",
   "execution_count": 13,
   "metadata": {},
   "outputs": [
    {
     "data": {
      "text/plain": [
       "str"
      ]
     },
     "execution_count": 13,
     "metadata": {},
     "output_type": "execute_result"
    }
   ],
   "source": [
    "type(pdf_text)"
   ]
  },
  {
   "cell_type": "code",
   "execution_count": 26,
   "metadata": {},
   "outputs": [
    {
     "name": "stdout",
     "output_type": "stream",
     "text": [
      "Zuordnungstafel | Bahn |301 Signalbuch Online\n",
      "top of page\n",
      "/\n",
      "Zugverkehrssteuerer\n",
      "Beruf & Gehalt\n",
      "Stellenangebote\n",
      "Bewerbung\n",
      "Einstellungstest\n",
      "Prüfungsvorbereitung\n",
      "Nützliches\n",
      "Fachwissen\n",
      "Kiosk\n",
      "mehr\n",
      "Use tab to navigate through the menu items.\n",
      "Zuordnungstafel\n",
      "Zuordnungstafel (DS 301)  .  Signal So20 (DV 301)\n",
      "Signalbuch; 301 0002\n",
      "Signalordnung  (Aktualisierung 11) - 301.0002 Bahnbetrieb  (Gültig ab 14.12.2008)\n",
      "DS 301:  Zuordnungstafel\n",
      "DV 301:  Signal So 20\n",
      "Zuordnungstafel oder Signal So 20 (301)\n",
      "Das durch die Zuordnungstafel gekennzeichnete Signal gilt für das Gleis, auf das die Spitze des Dreiecks weist.\n",
      "Ein schwarzes Rechteck mit weißem Dreieck\n",
      "Das weiße Dreieck der Zuordnungstafel ist rückstrahlend. Die Zuordnungstafel ist zu beleuchten, wenn auch das gekennzeichnete Signal zu beleuchten ist.\n",
      "Ein Signal ist durch die Zuordnungstafel gekennzeichnet, wenn es auf Grund seines Standorts zwischen zwei Gleisen unzutreffend auch für das Nachbargleis gültig sein würde.\n",
      "Die Zuordnungstafel wird in Verbindung mit folgenden Signalen angewandt:\n",
      "- Signal\n",
      "Ts 1\n",
      ",\n",
      "- Signale\n",
      "Lf 1, Lf 2, Lf 3, Lf 4, Lf 5, Lf 6\n",
      "und\n",
      "Lf 7\n",
      ",\n",
      "- Signale\n",
      "El 1v, El 1, El 2, El 3, El 4\n",
      "und\n",
      "El 5\n",
      ",\n",
      "- Signale\n",
      "Ne 1, Ne 2, Ne 3, Ne 4, Ne 5\n",
      "und\n",
      "Ne 7\n",
      ",\n",
      "- Signale\n",
      "Bü 0/1, Bü 4\n",
      "und\n",
      "Bü 5\n",
      ",\n",
      "- Signale\n",
      "Bü 2\n",
      "und\n",
      "Bü 3\n",
      "(jeweils DS 301),\n",
      "- Signale\n",
      "So 1, So 14, So 15\n",
      "und\n",
      "So 19\n",
      "(jeweils DV 301),\n",
      "- Signal\n",
      "Pf 2\n",
      "(DV 301).\n",
      "Ne2 Signaltafel mit Zuordnungstafel für rechtes Gleis\n",
      "Sollen die Signale für beide Gleise gültig sein, sind sie durch zwei Zuordnungstafeln zu kennzeichnen.\n",
      "Ne6 Signaltafel mit Zuordnungstafeln für zwei Gleise\n",
      "Die Zuordnungstafel ist über dem zu kennzeichnenden Signal – bei Signalen\n",
      "Bü 0/1\n",
      "über dem Mastschild – angebracht.\n",
      "Ist das durch Zuordnungstafel gekennzeichnete Signal zusätzlich durch einen oder durch mehrere Richtungspfeile ergänzt, sind die Richtungspfeile unterhalb des zu kennzeichnenden Signals angebracht.\n",
      "Fahrdienstleiter\n",
      "© 2025 Fdl Fahrdienstleiter\n",
      "Datenschutz\n",
      "|\n",
      "Haftungsausschluss - Impressum\n",
      "|\n",
      "AGB\n",
      "|\n",
      "Kontakt - Feedback - Newsletter\n",
      "bottom of page\n"
     ]
    }
   ],
   "source": [
    "import requests\n",
    "from bs4 import BeautifulSoup\n",
    "\n",
    "# URL der Website\n",
    "url = \"https://www.fahrdienstleiter.net/fdl/signalbuch-zuordnungstafel-ds301-signal-so-20-dv301\"\n",
    "\n",
    "# Sende eine HTTP-Anfrage an die Website\n",
    "response = requests.get(url)\n",
    "\n",
    "# Überprüfe, ob die Anfrage erfolgreich war\n",
    "if response.status_code == 200:\n",
    "    # Inhalt der Seite mit BeautifulSoup parsen\n",
    "    soup = BeautifulSoup(response.content, 'html.parser')\n",
    "    \n",
    "    # Extrahiere den Text der gesamten Seite\n",
    "    text = soup.get_text(separator='\\n', strip=True)\n",
    "    \n",
    "    # Ausgabe des extrahierten Textes\n",
    "    print(text)\n",
    "else:\n",
    "    print(f\"Fehler beim Abrufen der Seite: {response.status_code}\")"
   ]
  }
 ],
 "metadata": {
  "kernelspec": {
   "display_name": "atosignal",
   "language": "python",
   "name": "python3"
  },
  "language_info": {
   "codemirror_mode": {
    "name": "ipython",
    "version": 3
   },
   "file_extension": ".py",
   "mimetype": "text/x-python",
   "name": "python",
   "nbconvert_exporter": "python",
   "pygments_lexer": "ipython3",
   "version": "3.12.2"
  }
 },
 "nbformat": 4,
 "nbformat_minor": 2
}
